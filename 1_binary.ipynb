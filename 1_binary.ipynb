{
 "cells": [
  {
   "cell_type": "markdown",
   "metadata": {},
   "source": [
    "# Deliverable 1 - Binary Classifier"
   ]
  },
  {
   "cell_type": "markdown",
   "metadata": {},
   "source": [
    "## Import"
   ]
  },
  {
   "cell_type": "code",
   "execution_count": 1,
   "metadata": {},
   "outputs": [],
   "source": [
    "# Disable Tensorflow's warnings\n",
    "import os\n",
    "os.environ['TF_CPP_MIN_LOG_LEVEL'] = '3'"
   ]
  },
  {
   "cell_type": "code",
   "execution_count": 2,
   "metadata": {},
   "outputs": [],
   "source": [
    "import tensorflow as tf\n",
    "\n",
    "import matplotlib.pyplot as plt\n",
    "import numpy as np\n",
    "import pathlib\n",
    "from typing import Any,Union   "
   ]
  },
  {
   "cell_type": "markdown",
   "metadata": {},
   "source": [
    "## Global Variables"
   ]
  },
  {
   "cell_type": "code",
   "execution_count": 3,
   "metadata": {},
   "outputs": [],
   "source": [
    "BATCH_SIZE:int  = 64\n",
    "IMG_HEIGHT:int  = 256\n",
    "IMG_WIDTH:int   = 256\n",
    "EPOCHS = 20"
   ]
  },
  {
   "cell_type": "markdown",
   "metadata": {},
   "source": [
    "## Load Thomas Dataset"
   ]
  },
  {
   "cell_type": "code",
   "execution_count": 4,
   "metadata": {},
   "outputs": [
    {
     "name": "stdout",
     "output_type": "stream",
     "text": [
      "Found 22440 files belonging to 2 classes.\n",
      "Found 4057 files belonging to 2 classes.\n",
      "Found 4064 files belonging to 2 classes.\n"
     ]
    }
   ],
   "source": [
    "# Train\n",
    "train_data = tf.keras.utils.image_dataset_from_directory('data/1_data_bin_thomas/train',\n",
    "                                            image_size=(IMG_HEIGHT, IMG_WIDTH),\n",
    "                                            batch_size=BATCH_SIZE)\n",
    "\n",
    "# Validation\n",
    "val_data = tf.keras.utils.image_dataset_from_directory('data/1_data_bin_thomas/val',\n",
    "                                            image_size=(IMG_HEIGHT, IMG_WIDTH),\n",
    "                                            batch_size=BATCH_SIZE)\n",
    "\n",
    "# Evaluation\n",
    "test_data = tf.keras.utils.image_dataset_from_directory('data/1_data_bin_thomas/test',\n",
    "                                            image_size=(IMG_HEIGHT, IMG_WIDTH),\n",
    "                                            batch_size=BATCH_SIZE)\n",
    "\n",
    "# Get class names form dataset \n",
    "class_names = train_data.class_names"
   ]
  },
  {
   "cell_type": "code",
   "execution_count": 5,
   "metadata": {},
   "outputs": [],
   "source": [
    "# Load datasets in cache to optimize training time\n",
    "AUTOTUNE = tf.data.AUTOTUNE\n",
    "train_data = train_data.cache().prefetch(buffer_size=AUTOTUNE)\n",
    "val_data = val_data.cache().prefetch(buffer_size=AUTOTUNE)"
   ]
  },
  {
   "cell_type": "markdown",
   "metadata": {},
   "source": [
    "## Model"
   ]
  },
  {
   "cell_type": "code",
   "execution_count": 6,
   "metadata": {},
   "outputs": [],
   "source": [
    "with tf.device('/GPU:0'):\n",
    "    model = tf.keras.Sequential([\n",
    "        # Rescaling (rescale pixel values between 0 and 1)\n",
    "        tf.keras.layers.Rescaling(1./255, input_shape=(IMG_HEIGHT, IMG_WIDTH, 3)),\n",
    "\n",
    "        # Convolution Layers (feature extraction)\n",
    "        tf.keras.layers.Conv2D(256, 3, 2, activation='relu'),\n",
    "        tf.keras.layers.MaxPooling2D(strides=2),\n",
    "\n",
    "        tf.keras.layers.Conv2D(256, 3, 2, activation='relu'),\n",
    "        tf.keras.layers.MaxPooling2D(strides=2),\n",
    "\n",
    "        # Deep Neural Network Layers\n",
    "        tf.keras.layers.Flatten(),\n",
    "        tf.keras.layers.Dense(512, activation='relu'),\n",
    "        tf.keras.layers.Dropout(0.5),\n",
    "        tf.keras.layers.Dense(128, activation='relu'),\n",
    "        tf.keras.layers.Dropout(0.5),\n",
    "\n",
    "        # Output Layer (Binary model: 1 neurone and sigmoid activation)\n",
    "        tf.keras.layers.Dense(1, activation='sigmoid'),\n",
    "    ])\n",
    "\n",
    "    # Compile model\n",
    "    model.compile(optimizer='adamax',\n",
    "                loss=tf.keras.losses.BinaryCrossentropy(),\n",
    "                metrics=['accuracy'])"
   ]
  },
  {
   "cell_type": "markdown",
   "metadata": {},
   "source": [
    "## Checkpoint"
   ]
  },
  {
   "cell_type": "code",
   "execution_count": 7,
   "metadata": {},
   "outputs": [],
   "source": [
    "# Checkpoint callback to save the best weights during training\n",
    "model_checkpoint_callback = tf.keras.callbacks.ModelCheckpoint(\n",
    "    filepath='/tmp/checkpoint/bin',\n",
    "    save_weights_only=True,\n",
    "    monitor='val_accuracy',\n",
    "    mode='max',\n",
    "    save_best_only=True)"
   ]
  },
  {
   "cell_type": "markdown",
   "metadata": {},
   "source": [
    "## Train"
   ]
  },
  {
   "cell_type": "code",
   "execution_count": 8,
   "metadata": {},
   "outputs": [
    {
     "name": "stdout",
     "output_type": "stream",
     "text": [
      "Epoch 1/20\n",
      "339/351 [===========================>..] - ETA: 1s - loss: 0.4562 - accuracy: 0.7541"
     ]
    },
    {
     "name": "stderr",
     "output_type": "stream",
     "text": [
      "Corrupt JPEG data: 419 extraneous bytes before marker 0xd9\n"
     ]
    },
    {
     "name": "stdout",
     "output_type": "stream",
     "text": [
      "351/351 [==============================] - 68s 181ms/step - loss: 0.4525 - accuracy: 0.7568 - val_loss: 0.3325 - val_accuracy: 0.8326\n",
      "Epoch 2/20\n",
      "351/351 [==============================] - 58s 165ms/step - loss: 0.3404 - accuracy: 0.8379 - val_loss: 0.2782 - val_accuracy: 0.8669\n",
      "Epoch 3/20\n",
      "351/351 [==============================] - 52s 147ms/step - loss: 0.2986 - accuracy: 0.8676 - val_loss: 0.2517 - val_accuracy: 0.8869\n",
      "Epoch 4/20\n",
      "351/351 [==============================] - 55s 156ms/step - loss: 0.2649 - accuracy: 0.8860 - val_loss: 0.2450 - val_accuracy: 0.8933\n",
      "Epoch 5/20\n",
      "351/351 [==============================] - 53s 151ms/step - loss: 0.2350 - accuracy: 0.9000 - val_loss: 0.2356 - val_accuracy: 0.9034\n",
      "Epoch 6/20\n",
      "351/351 [==============================] - 54s 155ms/step - loss: 0.2124 - accuracy: 0.9146 - val_loss: 0.2376 - val_accuracy: 0.9026\n",
      "Epoch 7/20\n",
      "351/351 [==============================] - 56s 160ms/step - loss: 0.1821 - accuracy: 0.9276 - val_loss: 0.3105 - val_accuracy: 0.8874\n",
      "Epoch 8/20\n",
      "351/351 [==============================] - 55s 158ms/step - loss: 0.1563 - accuracy: 0.9395 - val_loss: 0.2710 - val_accuracy: 0.9041\n",
      "Epoch 9/20\n",
      "351/351 [==============================] - 59s 167ms/step - loss: 0.1321 - accuracy: 0.9496 - val_loss: 0.2820 - val_accuracy: 0.9083\n",
      "Epoch 10/20\n",
      "351/351 [==============================] - 57s 161ms/step - loss: 0.1057 - accuracy: 0.9609 - val_loss: 0.2601 - val_accuracy: 0.9162\n",
      "Epoch 11/20\n",
      "351/351 [==============================] - 57s 161ms/step - loss: 0.0899 - accuracy: 0.9660 - val_loss: 0.2508 - val_accuracy: 0.9135\n",
      "Epoch 12/20\n",
      "351/351 [==============================] - 57s 162ms/step - loss: 0.0734 - accuracy: 0.9743 - val_loss: 0.3403 - val_accuracy: 0.9026\n",
      "Epoch 13/20\n",
      "351/351 [==============================] - 55s 157ms/step - loss: 0.0585 - accuracy: 0.9808 - val_loss: 0.3172 - val_accuracy: 0.9125\n",
      "Epoch 14/20\n",
      "351/351 [==============================] - 59s 167ms/step - loss: 0.0467 - accuracy: 0.9843 - val_loss: 0.3193 - val_accuracy: 0.9177\n",
      "Epoch 15/20\n",
      "351/351 [==============================] - 57s 164ms/step - loss: 0.0387 - accuracy: 0.9883 - val_loss: 0.3428 - val_accuracy: 0.9214\n",
      "Epoch 16/20\n",
      "351/351 [==============================] - 56s 158ms/step - loss: 0.0329 - accuracy: 0.9891 - val_loss: 0.3883 - val_accuracy: 0.9125\n",
      "Epoch 17/20\n",
      "351/351 [==============================] - 58s 165ms/step - loss: 0.0256 - accuracy: 0.9923 - val_loss: 0.3877 - val_accuracy: 0.9132\n",
      "Epoch 18/20\n",
      "351/351 [==============================] - 55s 156ms/step - loss: 0.0256 - accuracy: 0.9922 - val_loss: 0.4571 - val_accuracy: 0.9081\n",
      "Epoch 19/20\n",
      "351/351 [==============================] - 57s 163ms/step - loss: 0.0260 - accuracy: 0.9918 - val_loss: 0.4581 - val_accuracy: 0.9135\n",
      "Epoch 20/20\n",
      "351/351 [==============================] - 57s 162ms/step - loss: 0.0185 - accuracy: 0.9940 - val_loss: 0.4241 - val_accuracy: 0.9125\n"
     ]
    }
   ],
   "source": [
    "# Train the model\n",
    "with tf.device('/GPU:0'):\n",
    "    history:tf.keras.callbacks.History = model.fit(\n",
    "        train_data,\n",
    "        validation_data=val_data,\n",
    "        epochs=EPOCHS,\n",
    "        # Call to the checkpoint callback\n",
    "        callbacks=model_checkpoint_callback\n",
    "    )"
   ]
  },
  {
   "cell_type": "markdown",
   "metadata": {},
   "source": [
    "## Graphs of the evolution of accuracy and loss "
   ]
  },
  {
   "cell_type": "code",
   "execution_count": 9,
   "metadata": {},
   "outputs": [
    {
     "data": {
      "image/png": "[encoded data removed]",
      "text/plain": [
       "<Figure size 800x800 with 2 Axes>"
      ]
     },
     "metadata": {},
     "output_type": "display_data"
    }
   ],
   "source": [
    "acc = history.history['accuracy']\n",
    "val_acc = history.history['val_accuracy']\n",
    "\n",
    "loss = history.history['loss']\n",
    "val_loss = history.history['val_loss']\n",
    "\n",
    "epochs_range = range(len(acc))\n",
    "\n",
    "plt.figure(figsize=(8, 8))\n",
    "plt.subplot(1, 2, 1)\n",
    "plt.plot(epochs_range, acc, label='Training Accuracy')\n",
    "plt.plot(epochs_range, val_acc, label='Validation Accuracy')\n",
    "plt.legend(loc='lower right')\n",
    "plt.title('Training and Validation Accuracy')\n",
    "\n",
    "plt.subplot(1, 2, 2)\n",
    "plt.plot(epochs_range, loss, label='Training Loss')\n",
    "plt.plot(epochs_range, val_loss, label='Validation Loss')\n",
    "plt.legend(loc='upper right')\n",
    "plt.title('Training and Validation Loss')\n",
    "plt.show()"
   ]
  },
  {
   "cell_type": "markdown",
   "metadata": {},
   "source": [
    "## Evaluate"
   ]
  },
  {
   "cell_type": "code",
   "execution_count": 10,
   "metadata": {},
   "outputs": [
    {
     "data": {
      "text/plain": [
       "<tensorflow.python.checkpoint.checkpoint.CheckpointLoadStatus at 0x7f1bfc995f90>"
      ]
     },
     "execution_count": 10,
     "metadata": {},
     "output_type": "execute_result"
    }
   ],
   "source": [
    "# Load best weights (checkpoint)\n",
    "model.load_weights('/tmp/checkpoint/bin')"
   ]
  },
  {
   "cell_type": "code",
   "execution_count": 11,
   "metadata": {},
   "outputs": [
    {
     "name": "stdout",
     "output_type": "stream",
     "text": [
      "64/64 [==============================] - 21s 263ms/step - loss: 0.3240 - accuracy: 0.9252\n",
      "test loss, test acc: [0.3240278959274292, 0.9251968264579773]\n"
     ]
    }
   ],
   "source": [
    "# Evaluate the model with test dataset\n",
    "results = model.evaluate(test_data, batch_size=64)\n",
    "print(\"test loss, test acc:\", results)"
   ]
  },
  {
   "cell_type": "markdown",
   "metadata": {},
   "source": [
    "## Save"
   ]
  },
  {
   "cell_type": "code",
   "execution_count": 12,
   "metadata": {},
   "outputs": [
    {
     "name": "stderr",
     "output_type": "stream",
     "text": [
      "WARNING:absl:Found untraced functions such as _jit_compiled_convolution_op, _jit_compiled_convolution_op while saving (showing 2 of 2). These functions will not be directly callable after loading.\n"
     ]
    },
    {
     "name": "stdout",
     "output_type": "stream",
     "text": [
      "INFO:tensorflow:Assets written to: models/bin_10.20.2022_16:51:18_0.93%/assets\n"
     ]
    },
    {
     "name": "stderr",
     "output_type": "stream",
     "text": [
      "INFO:tensorflow:Assets written to: models/bin_10.20.2022_16:51:18_0.93%/assets\n"
     ]
    }
   ],
   "source": [
    "import datetime\n",
    "import pandas as pd\n",
    "\n",
    "date:datetime = datetime.datetime.now().strftime(\"%m.%d.%Y_%H:%M:%S\")\n",
    "model_dir:str = f\"models/bin_{date}_{results[1]:.2f}%\"\n",
    "model.save(model_dir)\n",
    "f = open(f\"{model_dir}/model_summary.txt\", \"a\")\n",
    "model.summary(print_fn=lambda x: f.write(x + '\\n'))\n",
    "f.close()\n",
    "\n",
    "f = open(f\"{model_dir}/model_history.csv\", \"a\")\n",
    "f.write(pd.DataFrame.from_dict(history.history).to_csv(index=False))\n",
    "f.close()"
   ]
  }
 ],
 "metadata": {
  "kernelspec": {
   "display_name": "Python 3.10.6 64-bit",
   "language": "python",
   "name": "python3"
  },
  "language_info": {
   "codemirror_mode": {
    "name": "ipython",
    "version": 3
   },
   "file_extension": ".py",
   "mimetype": "text/x-python",
   "name": "python",
   "nbconvert_exporter": "python",
   "pygments_lexer": "ipython3",
   "version": "3.10.6"
  },
  "orig_nbformat": 4,
  "vscode": {
   "interpreter": {
    "hash": "e7370f93d1d0cde622a1f8e1c04877d8463912d04d973331ad4851f04de6915a"
   }
  }
 },
 "nbformat": 4,
 "nbformat_minor": 2
}
