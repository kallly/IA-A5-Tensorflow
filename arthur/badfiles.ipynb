{
 "cells": [
  {
   "cell_type": "code",
   "execution_count": 9,
   "metadata": {},
   "outputs": [
    {
     "name": "stdout",
     "output_type": "stream",
     "text": [
      "None\n",
      "./Painting/painting_09519.jpg\n",
      "None\n",
      "./Painting/painting_05023.jpg\n",
      "None\n",
      "./Painting/painting_02351.jpg\n",
      "None\n",
      "./Painting/painting_05486.jpg\n",
      "None\n",
      "./Painting/painting_00472.jpg\n",
      "None\n",
      "./Painting/painting_05791.jpg\n"
     ]
    },
    {
     "data": {
      "text/plain": [
       "0"
      ]
     },
     "execution_count": 9,
     "metadata": {},
     "output_type": "execute_result"
    }
   ],
   "source": [
    "#Verification des mauvais fichiers présents dans le dataset \n",
    "import imghdr as ih\n",
    "import shutil\n",
    "def check_image_format(image_dir):\n",
    "    for root, dirs, files in os.walk(image_dir):\n",
    "        for image in files:\n",
    "            format = ih.what(os.path.join(root, image))\n",
    "            if format != 'jpeg' and format != 'jpg' and format!= 'png' and format!=None:\n",
    "                print(format)\n",
    "                print(os.path.join(root, image))\n",
    "                shutil.move(os.path.join(root, image), os.path.join('./', image))\n",
    "\n",
    "    return 0\n",
    "\n",
    "check_image_format('./Painting/')"
   ]
  }
 ],
 "metadata": {
  "kernelspec": {
   "display_name": "Python 3.10.4 64-bit",
   "language": "python",
   "name": "python3"
  },
  "language_info": {
   "codemirror_mode": {
    "name": "ipython",
    "version": 3
   },
   "file_extension": ".py",
   "mimetype": "text/x-python",
   "name": "python",
   "nbconvert_exporter": "python",
   "pygments_lexer": "ipython3",
   "version": "3.10.4"
  },
  "orig_nbformat": 4,
  "vscode": {
   "interpreter": {
    "hash": "916dbcbb3f70747c44a77c7bcd40155683ae19c65e1c03b4aa3499c5328201f1"
   }
  }
 },
 "nbformat": 4,
 "nbformat_minor": 2
}
