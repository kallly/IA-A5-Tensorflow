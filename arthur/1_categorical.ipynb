{
 "cells": [
  {
   "cell_type": "markdown",
   "metadata": {},
   "source": [
    "# Deliverable 1 - Categorical Classifier"
   ]
  },
  {
   "cell_type": "markdown",
   "metadata": {},
   "source": [
    "## Import"
   ]
  },
  {
   "cell_type": "code",
   "execution_count": 1,
   "metadata": {},
   "outputs": [],
   "source": [
    "# Disable Tensorflow's warnings\n",
    "import os\n",
    "os.environ['TF_CPP_MIN_LOG_LEVEL'] = '2'"
   ]
  },
  {
   "cell_type": "code",
   "execution_count": 2,
   "metadata": {},
   "outputs": [
    {
     "name": "stderr",
     "output_type": "stream",
     "text": [
      "2022-10-07 10:54:38.366370: E tensorflow/stream_executor/cuda/cuda_blas.cc:2981] Unable to register cuBLAS factory: Attempting to register factory for plugin cuBLAS when one has already been registered\n"
     ]
    }
   ],
   "source": [
    "import tensorflow as tf\n",
    "\n",
    "import matplotlib.pyplot as plt\n",
    "import numpy as np\n",
    "import pathlib\n",
    "from typing import Any,Union   "
   ]
  },
  {
   "cell_type": "markdown",
   "metadata": {},
   "source": [
    "## Global Variables"
   ]
  },
  {
   "cell_type": "code",
   "execution_count": 3,
   "metadata": {},
   "outputs": [],
   "source": [
    "BATCH_SIZE:int = 64\n",
    "IMG_HEIGHT:int = 227\n",
    "IMG_WIDTH:int = 227\n",
    "EPOCHS = 10"
   ]
  },
  {
   "cell_type": "markdown",
   "metadata": {},
   "source": [
    "## Load Thomas's Dataset"
   ]
  },
  {
   "cell_type": "code",
   "execution_count": 4,
   "metadata": {},
   "outputs": [
    {
     "name": "stdout",
     "output_type": "stream",
     "text": [
      "Found 32439 files belonging to 5 classes.\n",
      "Found 4057 files belonging to 5 classes.\n",
      "Found 4064 files belonging to 5 classes.\n"
     ]
    }
   ],
   "source": [
    "# Train\n",
    "train_data = tf.keras.utils.image_dataset_from_directory('data_cat_thomas/train',\n",
    "                                            image_size=(IMG_HEIGHT, IMG_WIDTH),\n",
    "                                            batch_size=BATCH_SIZE)\n",
    "\n",
    "# Validation\n",
    "val_data = tf.keras.utils.image_dataset_from_directory('data_cat_thomas/val',\n",
    "                                            image_size=(IMG_HEIGHT, IMG_WIDTH),\n",
    "                                            batch_size=BATCH_SIZE)\n",
    "\n",
    "# Evaluation\n",
    "test_data = tf.keras.utils.image_dataset_from_directory('data_cat_thomas/test',\n",
    "                                            image_size=(IMG_HEIGHT, IMG_WIDTH),\n",
    "                                            batch_size=BATCH_SIZE)\n",
    "\n",
    "# Get class names form dataset \n",
    "class_names = train_data.class_names"
   ]
  },
  {
   "cell_type": "code",
   "execution_count": 5,
   "metadata": {},
   "outputs": [],
   "source": [
    "# Load datasets in cache to optimize training time\n",
    "AUTOTUNE = tf.data.AUTOTUNE\n",
    "train_data = train_data.cache().prefetch(buffer_size=AUTOTUNE)\n",
    "val_data = val_data.cache().prefetch(buffer_size=AUTOTUNE)"
   ]
  },
  {
   "cell_type": "markdown",
   "metadata": {},
   "source": [
    "## Model"
   ]
  },
  {
   "cell_type": "code",
   "execution_count": 6,
   "metadata": {},
   "outputs": [],
   "source": [
    "with tf.device('/GPU:0'):\n",
    "    model = tf.keras.Sequential([\n",
    "        # Rescaling (rescale pixel values between 0 and 1)\n",
    "        tf.keras.layers.Rescaling(1./255, input_shape=(IMG_HEIGHT, IMG_WIDTH, 3)),\n",
    "\n",
    "        # Convolution Layers (feature extraction)\n",
    "        tf.keras.layers.Conv2D(64, 3, 1, activation='relu'),\n",
    "        tf.keras.layers.MaxPooling2D(pool_size=2, strides=None, padding=\"valid\"),\n",
    "\n",
    "        tf.keras.layers.Conv2D(128, 3, 1, activation='relu'),\n",
    "        tf.keras.layers.MaxPooling2D(pool_size=2, strides=None, padding=\"valid\"),\n",
    "\n",
    "        tf.keras.layers.Conv2D(256, 3, 1, activation='relu'),\n",
    "        tf.keras.layers.MaxPooling2D(pool_size=2, strides=None, padding=\"valid\"),\n",
    "\n",
    "        tf.keras.layers.Conv2D(512, 3, 1, activation='relu'),\n",
    "        tf.keras.layers.MaxPooling2D(pool_size=2, strides=None, padding=\"valid\"),\n",
    "\n",
    "        tf.keras.layers.Conv2D(512, 3, 1, activation='relu'),\n",
    "        tf.keras.layers.MaxPooling2D(pool_size=2, strides=None, padding=\"valid\"),\n",
    "\n",
    "        # Deep Neural Network Layers\n",
    "        tf.keras.layers.Flatten(),\n",
    "        tf.keras.layers.Dense(4096, activation='relu'),\n",
    "        tf.keras.layers.Dropout(0.5),\n",
    "        tf.keras.layers.Dense(4096, activation='relu'),\n",
    "        tf.keras.layers.Dropout(0.5),\n",
    "\n",
    "        # Output Layer (Categorical model: 5 neurones and softmax activation)\n",
    "        tf.keras.layers.Dense(len(class_names), activation='softmax')\n",
    "    ])\n",
    "\n",
    "    # Compile model\n",
    "    model.compile(optimizer='adamax',\n",
    "                loss=tf.keras.losses.SparseCategoricalCrossentropy(),\n",
    "                metrics=['accuracy'])"
   ]
  },
  {
   "cell_type": "markdown",
   "metadata": {},
   "source": [
    "## Train"
   ]
  },
  {
   "cell_type": "code",
   "execution_count": 7,
   "metadata": {},
   "outputs": [],
   "source": [
    "# Checkpoint callback to save the best weights during training\n",
    "model_checkpoint_callback = tf.keras.callbacks.ModelCheckpoint(\n",
    "    filepath='/tmp/checkpoint/cat',\n",
    "    save_weights_only=True,\n",
    "    monitor='val_accuracy',\n",
    "    mode='max',\n",
    "    save_best_only=True)"
   ]
  },
  {
   "cell_type": "code",
   "execution_count": 8,
   "metadata": {},
   "outputs": [
    {
     "name": "stdout",
     "output_type": "stream",
     "text": [
      "Epoch 1/10\n",
      "253/507 [=============>................] - ETA: 1:00 - loss: 0.8925 - accuracy: 0.6074"
     ]
    },
    {
     "name": "stderr",
     "output_type": "stream",
     "text": [
      "Corrupt JPEG data: 419 extraneous bytes before marker 0xd9\n"
     ]
    },
    {
     "name": "stdout",
     "output_type": "stream",
     "text": [
      "507/507 [==============================] - 145s 271ms/step - loss: 0.7181 - accuracy: 0.6907 - val_loss: 0.4332 - val_accuracy: 0.8284\n",
      "Epoch 2/10\n",
      "507/507 [==============================] - 128s 252ms/step - loss: 0.4144 - accuracy: 0.8316 - val_loss: 0.3210 - val_accuracy: 0.8657\n",
      "Epoch 3/10\n",
      "507/507 [==============================] - 127s 251ms/step - loss: 0.3165 - accuracy: 0.8757 - val_loss: 0.2950 - val_accuracy: 0.8775\n",
      "Epoch 4/10\n",
      "507/507 [==============================] - 128s 252ms/step - loss: 0.2745 - accuracy: 0.8920 - val_loss: 0.2732 - val_accuracy: 0.8952\n",
      "Epoch 5/10\n",
      "507/507 [==============================] - 128s 252ms/step - loss: 0.2455 - accuracy: 0.9041 - val_loss: 0.2271 - val_accuracy: 0.9177\n",
      "Epoch 6/10\n",
      "507/507 [==============================] - 128s 252ms/step - loss: 0.2128 - accuracy: 0.9172 - val_loss: 0.1974 - val_accuracy: 0.9298\n",
      "Epoch 7/10\n",
      "507/507 [==============================] - 126s 248ms/step - loss: 0.1847 - accuracy: 0.9283 - val_loss: 0.2189 - val_accuracy: 0.9162\n",
      "Epoch 8/10\n",
      "507/507 [==============================] - 126s 248ms/step - loss: 0.1562 - accuracy: 0.9411 - val_loss: 0.2056 - val_accuracy: 0.9251\n",
      "Epoch 9/10\n",
      "507/507 [==============================] - 126s 248ms/step - loss: 0.1324 - accuracy: 0.9503 - val_loss: 0.2173 - val_accuracy: 0.9293\n",
      "Epoch 10/10\n",
      "507/507 [==============================] - 126s 248ms/step - loss: 0.1141 - accuracy: 0.9570 - val_loss: 0.2336 - val_accuracy: 0.9275\n"
     ]
    }
   ],
   "source": [
    "# Train the model\n",
    "with tf.device('/GPU:0'):\n",
    "    history:tf.keras.callbacks.History = model.fit(\n",
    "        train_data,\n",
    "        validation_data=val_data,\n",
    "        epochs=EPOCHS,\n",
    "        # Call to the checkpoint callback\n",
    "        callbacks=model_checkpoint_callback\n",
    "    )"
   ]
  },
  {
   "cell_type": "markdown",
   "metadata": {},
   "source": [
    "## Graphs of the evolution of accuracy and loss "
   ]
  },
  {
   "cell_type": "code",
   "execution_count": 9,
   "metadata": {},
   "outputs": [
    {
     "data": {
      "image/png": "[encoded data removed]",
      "text/plain": [
       "<Figure size 800x800 with 2 Axes>"
      ]
     },
     "metadata": {},
     "output_type": "display_data"
    }
   ],
   "source": [
    "acc = history.history['accuracy']\n",
    "val_acc = history.history['val_accuracy']\n",
    "\n",
    "loss = history.history['loss']\n",
    "val_loss = history.history['val_loss']\n",
    "\n",
    "epochs_range = range(len(acc))\n",
    "\n",
    "plt.figure(figsize=(8, 8))\n",
    "plt.subplot(1, 2, 1)\n",
    "plt.plot(epochs_range, acc, label='Training Accuracy')\n",
    "plt.plot(epochs_range, val_acc, label='Validation Accuracy')\n",
    "plt.legend(loc='lower right')\n",
    "plt.title('Training and Validation Accuracy')\n",
    "\n",
    "plt.subplot(1, 2, 2)\n",
    "plt.plot(epochs_range, loss, label='Training Loss')\n",
    "plt.plot(epochs_range, val_loss, label='Validation Loss')\n",
    "plt.legend(loc='upper right')\n",
    "plt.title('Training and Validation Loss')\n",
    "plt.show()"
   ]
  },
  {
   "cell_type": "markdown",
   "metadata": {},
   "source": [
    "## Evalutaion"
   ]
  },
  {
   "cell_type": "code",
   "execution_count": 10,
   "metadata": {},
   "outputs": [
    {
     "data": {
      "text/plain": [
       "<tensorflow.python.checkpoint.checkpoint.CheckpointLoadStatus at 0x7fb9a0283b20>"
      ]
     },
     "execution_count": 10,
     "metadata": {},
     "output_type": "execute_result"
    }
   ],
   "source": [
    "# Load best weights (checkpoint)\n",
    "model.load_weights('/tmp/checkpoint/cat')"
   ]
  },
  {
   "cell_type": "code",
   "execution_count": 11,
   "metadata": {},
   "outputs": [
    {
     "name": "stdout",
     "output_type": "stream",
     "text": [
      "Evaluate on test data\n",
      "64/64 [==============================] - 10s 146ms/step - loss: 0.2091 - accuracy: 0.9218\n",
      "test loss, test acc: [0.20906007289886475, 0.9217519760131836]\n"
     ]
    }
   ],
   "source": [
    "# Evaluate the model with test dataset\n",
    "print(\"Evaluate on test data\")\n",
    "results = model.evaluate(test_data, batch_size=64)\n",
    "print(\"test loss, test acc:\", results)"
   ]
  },
  {
   "cell_type": "markdown",
   "metadata": {},
   "source": [
    "## Save"
   ]
  },
  {
   "cell_type": "code",
   "execution_count": 12,
   "metadata": {},
   "outputs": [
    {
     "name": "stderr",
     "output_type": "stream",
     "text": [
      "WARNING:absl:Found untraced functions such as _jit_compiled_convolution_op, _jit_compiled_convolution_op, _jit_compiled_convolution_op, _jit_compiled_convolution_op, _jit_compiled_convolution_op while saving (showing 5 of 5). These functions will not be directly callable after loading.\n"
     ]
    },
    {
     "name": "stdout",
     "output_type": "stream",
     "text": [
      "INFO:tensorflow:Assets written to: models/cat_10.07.2022_11:16:30_0.92%/assets\n"
     ]
    },
    {
     "name": "stderr",
     "output_type": "stream",
     "text": [
      "INFO:tensorflow:Assets written to: models/cat_10.07.2022_11:16:30_0.92%/assets\n"
     ]
    }
   ],
   "source": [
    "import datetime\n",
    "import pandas as pd\n",
    "\n",
    "date:datetime = datetime.datetime.now().strftime(\"%m.%d.%Y_%H:%M:%S\")\n",
    "model_dir:str = f\"models/cat_{date}_{results[1]:.2f}%\"\n",
    "model.save(model_dir)\n",
    "f = open(f\"{model_dir}/model_summary.txt\", \"a\")\n",
    "model.summary(print_fn=lambda x: f.write(x + '\\n'))\n",
    "f.close()\n",
    "\n",
    "f = open(f\"{model_dir}/model_history.csv\", \"a\")\n",
    "f.write(pd.DataFrame.from_dict(history.history).to_csv(index=False))\n",
    "f.close()"
   ]
  }
 ],
 "metadata": {
  "kernelspec": {
   "display_name": "Python 3.10.4 64-bit",
   "language": "python",
   "name": "python3"
  },
  "language_info": {
   "codemirror_mode": {
    "name": "ipython",
    "version": 3
   },
   "file_extension": ".py",
   "mimetype": "text/x-python",
   "name": "python",
   "nbconvert_exporter": "python",
   "pygments_lexer": "ipython3",
   "version": "3.10.6"
  },
  "orig_nbformat": 4,
  "vscode": {
   "interpreter": {
    "hash": "916dbcbb3f70747c44a77c7bcd40155683ae19c65e1c03b4aa3499c5328201f1"
   }
  }
 },
 "nbformat": 4,
 "nbformat_minor": 2
}
