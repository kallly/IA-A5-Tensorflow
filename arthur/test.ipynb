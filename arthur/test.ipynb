{
 "cells": [
  {
   "cell_type": "code",
   "execution_count": 6,
   "metadata": {},
   "outputs": [],
   "source": [
    "import tensorflow as tf\n",
    "\n",
    "import pathlib\n",
    "from typing import Any,Union\n",
    "\n",
    "import numpy as np\n",
    "import matplotlib.pyplot as plt"
   ]
  },
  {
   "cell_type": "code",
   "execution_count": 7,
   "metadata": {},
   "outputs": [],
   "source": [
    "def get_dataset_dir(path) -> str:\n",
    "    return pathlib.Path(path)"
   ]
  },
  {
   "cell_type": "code",
   "execution_count": 8,
   "metadata": {},
   "outputs": [],
   "source": [
    "BATCH_SIZE:int  = 32\n",
    "IMG_HEIGHT:int  = 227\n",
    "IMG_WIDTH:int   = 227"
   ]
  },
  {
   "cell_type": "code",
   "execution_count": 9,
   "metadata": {},
   "outputs": [],
   "source": [
    "#import csv\n",
    "\n",
    "MODEL_NAME = 'models/model_09.23.2022_13:33:17'\n",
    "model:tf.keras.Model = tf.keras.models.load_model(MODEL_NAME)"
   ]
  },
  {
   "cell_type": "code",
   "execution_count": 10,
   "metadata": {},
   "outputs": [
    {
     "name": "stdout",
     "output_type": "stream",
     "text": [
      "Found 409 files belonging to 2 classes.\n"
     ]
    }
   ],
   "source": [
    "test_images = tf.keras.utils.image_dataset_from_directory(\n",
    "    'data/giga_test',\n",
    "    # validation_split=VAL_SPLIT,\n",
    "    # subset=\"training\",\n",
    "    # seed=123,\n",
    "    image_size=(IMG_HEIGHT, IMG_WIDTH),\n",
    "    #batch_size=BATCH_SIZE\n",
    ")\n",
    "\n",
    "class_names = ['photo','nophoto']"
   ]
  },
  {
   "cell_type": "code",
   "execution_count": 11,
   "metadata": {},
   "outputs": [
    {
     "name": "stderr",
     "output_type": "stream",
     "text": [
      "2022-09-25 18:57:32.999928: W tensorflow/core/framework/cpu_allocator_impl.cc:82] Allocation of 65418876 exceeds 10% of free system memory.\n",
      "2022-09-25 18:57:33.011276: W tensorflow/core/framework/cpu_allocator_impl.cc:82] Allocation of 51676920 exceeds 10% of free system memory.\n",
      "2022-09-25 18:57:33.177970: W tensorflow/core/framework/cpu_allocator_impl.cc:82] Allocation of 57042144 exceeds 10% of free system memory.\n",
      "2022-09-25 18:57:33.335185: W tensorflow/core/framework/cpu_allocator_impl.cc:82] Allocation of 103975326 exceeds 10% of free system memory.\n",
      "2022-09-25 18:57:34.397240: I tensorflow/stream_executor/cuda/cuda_dnn.cc:384] Loaded cuDNN version 8500\n"
     ]
    },
    {
     "name": "stdout",
     "output_type": "stream",
     "text": [
      " 4/13 [========>.....................] - ETA: 0s "
     ]
    },
    {
     "name": "stderr",
     "output_type": "stream",
     "text": [
      "2022-09-25 18:57:35.020584: I tensorflow/core/platform/default/subprocess.cc:304] Start cannot spawn child process: No such file or directory\n"
     ]
    },
    {
     "name": "stdout",
     "output_type": "stream",
     "text": [
      "13/13 [==============================] - 2s 14ms/step\n"
     ]
    }
   ],
   "source": [
    "predictions = model.predict(test_images)"
   ]
  },
  {
   "cell_type": "code",
   "execution_count": 12,
   "metadata": {},
   "outputs": [
    {
     "name": "stderr",
     "output_type": "stream",
     "text": [
      "2022-09-25 18:57:35.344788: W tensorflow/core/framework/cpu_allocator_impl.cc:82] Allocation of 65418876 exceeds 10% of free system memory.\n"
     ]
    },
    {
     "name": "stdout",
     "output_type": "stream",
     "text": [
      "Number error: 8\n"
     ]
    }
   ],
   "source": [
    "i = 0\n",
    "error = 0\n",
    "\n",
    "for images, labels in test_images.take(-1):\n",
    "    if labels.numpy()[0] != int(np.round(predictions[i])):\n",
    "        error += 1\n",
    "    i += 1\n",
    "\n",
    "print(f\"Number error: {error}\")\n"
   ]
  }
 ],
 "metadata": {
  "kernelspec": {
   "display_name": "Python 3.10.7 64-bit",
   "language": "python",
   "name": "python3"
  },
  "language_info": {
   "codemirror_mode": {
    "name": "ipython",
    "version": 3
   },
   "file_extension": ".py",
   "mimetype": "text/x-python",
   "name": "python",
   "nbconvert_exporter": "python",
   "pygments_lexer": "ipython3",
   "version": "3.10.6"
  },
  "orig_nbformat": 4,
  "vscode": {
   "interpreter": {
    "hash": "e7370f93d1d0cde622a1f8e1c04877d8463912d04d973331ad4851f04de6915a"
   }
  }
 },
 "nbformat": 4,
 "nbformat_minor": 2
}
