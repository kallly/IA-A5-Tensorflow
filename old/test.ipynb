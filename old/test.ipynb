{
 "cells": [
  {
   "cell_type": "code",
   "execution_count": null,
   "metadata": {},
   "outputs": [],
   "source": [
    "import tensorflow as tf\n",
    "\n",
    "import pathlib\n",
    "from typing import Any,Union\n",
    "\n",
    "import numpy as np\n",
    "import matplotlib.pyplot as plt"
   ]
  },
  {
   "cell_type": "code",
   "execution_count": null,
   "metadata": {},
   "outputs": [],
   "source": [
    "def get_dataset_dir(path) -> str:\n",
    "    return pathlib.Path(path)"
   ]
  },
  {
   "cell_type": "code",
   "execution_count": null,
   "metadata": {},
   "outputs": [],
   "source": [
    "BATCH_SIZE:int  = 64\n",
    "IMG_HEIGHT:int  = 180\n",
    "IMG_WIDTH:int   = 180"
   ]
  },
  {
   "cell_type": "code",
   "execution_count": null,
   "metadata": {},
   "outputs": [],
   "source": [
    "import csv\n",
    "\n",
    "MODEL_NAME = 'model_09.20.2022_20:31:25'\n",
    "model:tf.keras.Model = tf.keras.models.load_model(MODEL_NAME)"
   ]
  },
  {
   "cell_type": "code",
   "execution_count": null,
   "metadata": {},
   "outputs": [],
   "source": [
    "from glob import glob\n",
    "\n",
    "def testAndPrint(model_):\n",
    "    validation_path = pathlib.Path(\"dataset\")\n",
    "    class_names = list(glob('*',root_dir='dataset'))\n",
    "    print(class_names)\n",
    "\n",
    "    isPhotoError = 0\n",
    "    miss = {}\n",
    "    for class_name in class_names:\n",
    "        miss[class_name] = 0\n",
    "\n",
    "    for class_name in class_names:\n",
    "        err = 0\n",
    "        sum_perc = 0\n",
    "        notdef = 0\n",
    "        plt.figure(figsize=(100, 100))\n",
    "        for class_name_2 in class_names:\n",
    "            miss[class_name_2] = 0\n",
    "        for path in list(validation_path.glob(f\"{class_name}/*.jpg\")):\n",
    "\n",
    "            img = tf.keras.utils.load_img(\n",
    "                path, target_size=(IMG_HEIGHT, IMG_WIDTH)\n",
    "            )\n",
    "            img_array = tf.keras.utils.img_to_array(img)\n",
    "            img_array = tf.expand_dims(img_array, 0) # Create a batch\n",
    "\n",
    "            predictions = model_.predict(img_array,verbose=0)\n",
    "            score = tf.nn.softmax(predictions[0])\n",
    "\n",
    "            miss[class_names[np.argmax(score)]] += 1\n",
    "            #if 100 * np.max(score) < 80:\n",
    "            #        notdef = notdef + 1\n",
    "            #else:\n",
    "\n",
    "            if class_name != class_names[np.argmax(score)]:\n",
    "                if class_name == 'photo' or class_names[np.argmax(score)]=='photo':\n",
    "                    isPhotoError +=1\n",
    "                #print(\n",
    "                #    \"{} {} with a {:.2f} percent confidence but is a {}\"\n",
    "                #    .format(path, class_names[np.argmax(score)], 100 * np.max(score), class_name)\n",
    "                #)\n",
    "\n",
    "                err = err + 1\n",
    "                sum_perc = sum_perc + 100 * np.max(score)\n",
    "                if err <= 40:\n",
    "                    plt.subplot(5, 8, err)\n",
    "                    plt.imshow(img)\n",
    "                    plt.title(class_names[np.argmax(score)],fontsize=60)\n",
    "                    plt.axis(\"off\")\n",
    "\n",
    "\n",
    "        len_class = len(list(validation_path.glob(f\"{class_name}/*.jpg\")))\n",
    "        if err > 0:\n",
    "            stat = ((len_class-err-notdef) / len_class) * 100\n",
    "            print(f\"{class_name} {stat}% || {err} error || {notdef} nodef || {sum_perc/err}\")\n",
    "        else:\n",
    "            stat = ((len_class-notdef) / len_class) * 100\n",
    "            print(f\"{class_name} {stat}% || {notdef} nodef\")\n",
    "        print(f\"{class_name}\",miss)\n",
    "    print(isPhotoError)\n",
    "    plt.show()\n"
   ]
  },
  {
   "cell_type": "code",
   "execution_count": null,
   "metadata": {},
   "outputs": [],
   "source": [
    "testAndPrint(model)"
   ]
  }
 ],
 "metadata": {
  "kernelspec": {
   "display_name": "Python 3.10.7 64-bit",
   "language": "python",
   "name": "python3"
  },
  "language_info": {
   "codemirror_mode": {
    "name": "ipython",
    "version": 3
   },
   "file_extension": ".py",
   "mimetype": "text/x-python",
   "name": "python",
   "nbconvert_exporter": "python",
   "pygments_lexer": "ipython3",
   "version": "3.10.7"
  },
  "orig_nbformat": 4,
  "vscode": {
   "interpreter": {
    "hash": "e7370f93d1d0cde622a1f8e1c04877d8463912d04d973331ad4851f04de6915a"
   }
  }
 },
 "nbformat": 4,
 "nbformat_minor": 2
}
